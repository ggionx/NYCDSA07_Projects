{
 "cells": [
  {
   "cell_type": "code",
   "execution_count": null,
   "metadata": {
    "collapsed": true
   },
   "outputs": [],
   "source": [
    "import pandas as pd\n",
    "import numpy as np\n",
    "import seaborn as sns\n",
    "import matplotlib.pyplot as plt\n",
    "%matplotlib inline\n",
    "import sklearn as sk\n",
    "from sklearn.decomposition import PCA\n",
    "from sklearn.feature_extraction.text import TfidfVectorizer\n",
    "from sklearn.manifold import TSNE"
   ]
  },
  {
   "cell_type": "code",
   "execution_count": null,
   "metadata": {
    "collapsed": true
   },
   "outputs": [],
   "source": [
    "data1 = pd.read_table('menuitems.normalized', \" [+] \", engine = 'python', header = None)"
   ]
  },
  {
   "cell_type": "code",
   "execution_count": null,
   "metadata": {
    "collapsed": false
   },
   "outputs": [],
   "source": [
    "data2 = data1.drop(5, axis=1)\n",
    "data2[4] = data2[4].astype(str)\n",
    "data2 = data2.groupby([0,3])[4].apply(lambda x: ' '.join(x)).reset_index()\n",
    "#data3 = data2.groupby([0,3])[4].apply(lambda x: ' '.join(x)).reset_index()"
   ]
  },
  {
   "cell_type": "code",
   "execution_count": null,
   "metadata": {
    "collapsed": false
   },
   "outputs": [],
   "source": [
    "data1.head()"
   ]
  },
  {
   "cell_type": "code",
   "execution_count": null,
   "metadata": {
    "collapsed": false
   },
   "outputs": [],
   "source": [
    "data3 = data2.drop(4, axis = 1)\n",
    "data3.columns = ['name','price']\n",
    "data3.head()"
   ]
  },
  {
   "cell_type": "code",
   "execution_count": null,
   "metadata": {
    "collapsed": false
   },
   "outputs": [],
   "source": [
    "data4 = data2.drop(3, axis=1)\n",
    "data4.columns = ['name','menu']\n",
    "data4.head()"
   ]
  },
  {
   "cell_type": "code",
   "execution_count": null,
   "metadata": {
    "collapsed": true
   },
   "outputs": [],
   "source": [
    "#data2.head()\n",
    "#data2.loc[[0],[4]]\n",
    "data_dict = data4 #.drop([1,2,3], axis=1)\n",
    "data_dict.head()\n",
    "data_dict2 = data_dict.set_index('name')['menu'].to_dict()"
   ]
  },
  {
   "cell_type": "code",
   "execution_count": null,
   "metadata": {
    "collapsed": false,
    "scrolled": false
   },
   "outputs": [],
   "source": [
    "data_dict2.itervalues().next()\n",
    "#data_dict2"
   ]
  },
  {
   "cell_type": "code",
   "execution_count": null,
   "metadata": {
    "collapsed": false
   },
   "outputs": [],
   "source": [
    "v = TfidfVectorizer(stop_words = 'english')\n",
    "x = v.fit_transform(data_dict2.values())"
   ]
  },
  {
   "cell_type": "code",
   "execution_count": null,
   "metadata": {
    "collapsed": false
   },
   "outputs": [],
   "source": [
    "x.shape"
   ]
  },
  {
   "cell_type": "code",
   "execution_count": null,
   "metadata": {
    "collapsed": false
   },
   "outputs": [],
   "source": [
    "#http://stackoverflow.com/questions/36587702/convert-sparse-matrix-csc-matrix-to-pandas-dataframe\n",
    "#Give me a dataframe with all restaurants as observations\n",
    "#this is what you will use for PCA plotting\n",
    "dense_df1 = pd.DataFrame(x.toarray())\n",
    "#dense_df1.head()"
   ]
  },
  {
   "cell_type": "code",
   "execution_count": null,
   "metadata": {
    "collapsed": false
   },
   "outputs": [],
   "source": [
    "dense_df1.shape"
   ]
  },
  {
   "cell_type": "code",
   "execution_count": null,
   "metadata": {
    "collapsed": false
   },
   "outputs": [],
   "source": [
    "#concat full TF-IDF df with pricing, create %10 CV\n",
    "\n",
    "\n",
    "from sklearn import cross_validation\n",
    "kmeans_df = pd.concat([dense_df1, data3], axis=1)\n",
    "# kmeans_cvdf = cross_validation.StratifiedKFold(kmeans_df, 10, shuffle=True)\n",
    "# kmeans_cvdf.head()\n",
    "# list(kmeans_cvdf)[0]\n",
    "kmeans_df.head()"
   ]
  },
  {
   "cell_type": "code",
   "execution_count": null,
   "metadata": {
    "collapsed": false
   },
   "outputs": [],
   "source": [
    "kmeans_df2 = kmeans_df.dropna()\n",
    "kmeans_df2.loc[kmeans_df2.iloc[:,-1] == '$','price'] = 1\n",
    "kmeans_df2.loc[kmeans_df2.iloc[:,-1] == '$$','price'] = 2\n",
    "kmeans_df2.loc[kmeans_df2.iloc[:,-1] == '$$$','price'] = 3\n",
    "kmeans_df2.loc[kmeans_df2.iloc[:,-1] == '$$$$','price'] = 4\n",
    "# kmeans_df2.tail()\n"
   ]
  },
  {
   "cell_type": "code",
   "execution_count": null,
   "metadata": {
    "collapsed": false
   },
   "outputs": [],
   "source": [
    "#might be faster to filter and just take 10%\n",
    "#take 10% sample of each sub sample and concatenate\n",
    "sample_price1 = kmeans_df2.query(\"price == 1\").sample(frac=.1)\n",
    "sample_price2 = kmeans_df2.query(\"price == 2\").sample(frac=.1)\n",
    "sample_price3 = kmeans_df2.query(\"price == 3\").sample(frac=.1)\n",
    "sample_price4 = kmeans_df2.query(\"price == 4\").sample(frac=.1)\n",
    "\n",
    "frames = [sample_price1,sample_price2,sample_price3,sample_price4]\n",
    "kmeans_sample = pd.concat(frames)\n",
    "kmeans_sample2 = kmeans_sample.drop(['name','price'], axis=1)\n",
    "kmeans_sample2.values\n",
    "\n"
   ]
  },
  {
   "cell_type": "code",
   "execution_count": null,
   "metadata": {
    "collapsed": true
   },
   "outputs": [],
   "source": [
    "from sklearn.cluster import KMeans\n",
    "def find_kmeans_centroids(num):\n",
    "    kmeans_results = KMeans(n_clusters=num, random_state=0).fit(kmeans_sample2.values)\n",
    "    A = kmeans_results.cluster_centers_\n",
    "    return A"
   ]
  },
  {
   "cell_type": "code",
   "execution_count": null,
   "metadata": {
    "collapsed": false
   },
   "outputs": [],
   "source": [
    "#vary the number of centroids to ensure I have right number of groups\n",
    "kmeans_results3 = find_kmeans_centroids(3)\n",
    "kmeans_results4 = find_kmeans_centroids(4)\n",
    "kmeans_results5 = find_kmeans_centroids(5)\n",
    "kmeans_results6 = find_kmeans_centroids(6)"
   ]
  },
  {
   "cell_type": "code",
   "execution_count": null,
   "metadata": {
    "collapsed": false
   },
   "outputs": [],
   "source": [
    "from sklearn.decomposition import PCA\n",
    "\n",
    "A = kmeans_results6\n",
    "PCA_object = PCA(n_components=3)\n",
    "PCA_object2 = pd.DataFrame(PCA_object.fit(A).transform(A), columns = ['x', 'y', 'z'])"
   ]
  },
  {
   "cell_type": "code",
   "execution_count": null,
   "metadata": {
    "collapsed": true
   },
   "outputs": [],
   "source": [
    "PCA_object2.plot?"
   ]
  },
  {
   "cell_type": "code",
   "execution_count": null,
   "metadata": {
    "collapsed": false
   },
   "outputs": [],
   "source": [
    "fig,ax = plt.subplots(2,2)\n",
    "PCA_object2.plot('x', 'y', kind='scatter', ylim=(-.35,.4), ax=ax[0,0])\n",
    "PCA_object2.plot('x', 'z', kind='scatter', ylim=(-.35,.4), ax=ax[0,1])\n",
    "PCA_object2.plot('y', 'z', kind='scatter', ylim=(-.35,.4), ax=ax[1,0])"
   ]
  },
  {
   "cell_type": "code",
   "execution_count": 70,
   "metadata": {
    "collapsed": false
   },
   "outputs": [
    {
     "data": {
      "text/plain": [
       "<seaborn.axisgrid.FacetGrid at 0x7fbe86036b90>"
      ]
     },
     "execution_count": 70,
     "metadata": {},
     "output_type": "execute_result"
    },
    {
     "data": {
      "image/png": "[encoded data removed]",
      "text/plain": [
       "<matplotlib.figure.Figure at 0x7fbe86837290>"
      ]
     },
     "metadata": {},
     "output_type": "display_data"
    }
   ],
   "source": [
    "import seaborn as sns\n",
    "sns.lmplot('x','y',data=PCA_object2, hue='cluster', fit_reg=False)\n",
    "# PCA_object2['cluster'] = PCA_object2.index\n",
    "# PCA_object2\n",
    "# sns.FacetGrid"
   ]
  },
  {
   "cell_type": "code",
   "execution_count": 69,
   "metadata": {
    "collapsed": true
   },
   "outputs": [],
   "source": [
    "sns.lmplot?"
   ]
  },
  {
   "cell_type": "code",
   "execution_count": null,
   "metadata": {
    "collapsed": true
   },
   "outputs": [],
   "source": [
    "#which clustering gives you most meaningful interpretation"
   ]
  }
 ],
 "metadata": {
  "kernelspec": {
   "display_name": "Python [Root]",
   "language": "python",
   "name": "Python [Root]"
  },
  "language_info": {
   "codemirror_mode": {
    "name": "ipython",
    "version": 2
   },
   "file_extension": ".py",
   "mimetype": "text/x-python",
   "name": "python",
   "nbconvert_exporter": "python",
   "pygments_lexer": "ipython2",
   "version": "2.7.12"
  }
 },
 "nbformat": 4,
 "nbformat_minor": 0
}
