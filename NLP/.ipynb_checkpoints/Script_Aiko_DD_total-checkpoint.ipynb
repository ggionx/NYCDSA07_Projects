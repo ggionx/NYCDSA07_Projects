{
 "cells": [
  {
   "cell_type": "code",
   "execution_count": 1,
   "metadata": {
    "collapsed": true
   },
   "outputs": [],
   "source": [
    "import pandas as pd\n",
    "import numpy as np\n",
    "import seaborn as sns\n",
    "import matplotlib.pyplot as plt\n",
    "%matplotlib inline\n",
    "import sklearn as sk\n",
    "from sklearn.decomposition import PCA\n",
    "from sklearn.feature_extraction.text import TfidfVectorizer"
   ]
  },
  {
   "cell_type": "markdown",
   "metadata": {},
   "source": [
    "[Presentation Link](https://docs.google.com/a/frederickcheung.com/presentation/d/1-FGwFy3TOuqVNx2sdz7KIA5VIMpaFBABDaXnBWEYjH8/edit?usp=sharing)"
   ]
  },
  {
   "cell_type": "markdown",
   "metadata": {},
   "source": [
    "# Due Diligence\n",
    "\n",
    "Limitations to working with my data, 40k+ dimensions, it is not enough to say that there were 4 groups."
   ]
  },
  {
   "cell_type": "code",
   "execution_count": 19,
   "metadata": {
    "collapsed": false
   },
   "outputs": [
    {
     "data": {
      "text/html": [
       "<div>\n",
       "<table border=\"1\" class=\"dataframe\">\n",
       "  <thead>\n",
       "    <tr style=\"text-align: right;\">\n",
       "      <th></th>\n",
       "      <th>0</th>\n",
       "      <th>3</th>\n",
       "      <th>4</th>\n",
       "    </tr>\n",
       "  </thead>\n",
       "  <tbody>\n",
       "    <tr>\n",
       "      <th>0</th>\n",
       "      <td>#1 Chop Suey</td>\n",
       "      <td>$</td>\n",
       "      <td>pork noodle soup large ham small extra onion h...</td>\n",
       "    </tr>\n",
       "  </tbody>\n",
       "</table>\n",
       "</div>"
      ],
      "text/plain": [
       "              0  3                                                  4\n",
       "0  #1 Chop Suey  $  pork noodle soup large ham small extra onion h..."
      ]
     },
     "execution_count": 19,
     "metadata": {},
     "output_type": "execute_result"
    }
   ],
   "source": [
    "data1 = pd.read_table('menuitems.normalized', \" [+] \", engine = 'python', header = None)\n",
    "data2 = data1.drop(5, axis=1)\n",
    "data2[4] = data2[4].astype(str)\n",
    "data2 = data2.groupby([0,3])[4].apply(lambda x: ' '.join(x)).reset_index()\n",
    "data2.head(1)"
   ]
  },
  {
   "cell_type": "code",
   "execution_count": 20,
   "metadata": {
    "collapsed": false
   },
   "outputs": [
    {
     "data": {
      "text/html": [
       "<div>\n",
       "<table border=\"1\" class=\"dataframe\">\n",
       "  <thead>\n",
       "    <tr style=\"text-align: right;\">\n",
       "      <th></th>\n",
       "      <th>name</th>\n",
       "      <th>price</th>\n",
       "    </tr>\n",
       "  </thead>\n",
       "  <tbody>\n",
       "    <tr>\n",
       "      <th>0</th>\n",
       "      <td>#1 Chop Suey</td>\n",
       "      <td>$</td>\n",
       "    </tr>\n",
       "  </tbody>\n",
       "</table>\n",
       "</div>"
      ],
      "text/plain": [
       "           name price\n",
       "0  #1 Chop Suey     $"
      ]
     },
     "execution_count": 20,
     "metadata": {},
     "output_type": "execute_result"
    }
   ],
   "source": [
    "#data frame with name and price rating of restaurant\n",
    "data3 = data2.drop(4, axis = 1)\n",
    "data3.columns = ['name','price']\n",
    "data3.head(1)"
   ]
  },
  {
   "cell_type": "code",
   "execution_count": 21,
   "metadata": {
    "collapsed": false
   },
   "outputs": [
    {
     "data": {
      "text/html": [
       "<div>\n",
       "<table border=\"1\" class=\"dataframe\">\n",
       "  <thead>\n",
       "    <tr style=\"text-align: right;\">\n",
       "      <th></th>\n",
       "      <th>name</th>\n",
       "      <th>menu</th>\n",
       "    </tr>\n",
       "  </thead>\n",
       "  <tbody>\n",
       "    <tr>\n",
       "      <th>0</th>\n",
       "      <td>#1 Chop Suey</td>\n",
       "      <td>pork noodle soup large ham small extra onion h...</td>\n",
       "    </tr>\n",
       "  </tbody>\n",
       "</table>\n",
       "</div>"
      ],
      "text/plain": [
       "           name                                               menu\n",
       "0  #1 Chop Suey  pork noodle soup large ham small extra onion h..."
      ]
     },
     "execution_count": 21,
     "metadata": {},
     "output_type": "execute_result"
    }
   ],
   "source": [
    "#data frame with Name and all Menu items\n",
    "data4 = data2.drop(3, axis=1)\n",
    "data4.columns = ['name','menu']\n",
    "data4.head(1)"
   ]
  },
  {
   "cell_type": "code",
   "execution_count": 24,
   "metadata": {
    "collapsed": false
   },
   "outputs": [],
   "source": [
    "# Calculate TFIDF \n",
    "data_dict = data4 #.drop([1,2,3], axis=1)\n",
    "data_dict.head()\n",
    "data_dict2 = data_dict.set_index('name')['menu'].to_dict()\n",
    "\n",
    "#TFIDF calculation resulting in sparse matrix\n",
    "v = TfidfVectorizer(stop_words = 'english')\n",
    "sparse_df = v.fit_transform(data_dict2.values())\n",
    "\n",
    "#convert sparse matrix to dense matrix\n",
    "dense_df1 = pd.DataFrame(sparse_df.toarray())\n"
   ]
  },
  {
   "cell_type": "markdown",
   "metadata": {},
   "source": [
    "### Take a 10% sample of the Data"
   ]
  },
  {
   "cell_type": "code",
   "execution_count": 27,
   "metadata": {
    "collapsed": false
   },
   "outputs": [
    {
     "data": {
      "text/html": [
       "<div>\n",
       "<table border=\"1\" class=\"dataframe\">\n",
       "  <thead>\n",
       "    <tr style=\"text-align: right;\">\n",
       "      <th></th>\n",
       "      <th>0</th>\n",
       "      <th>1</th>\n",
       "      <th>2</th>\n",
       "      <th>3</th>\n",
       "      <th>4</th>\n",
       "      <th>5</th>\n",
       "      <th>6</th>\n",
       "      <th>7</th>\n",
       "      <th>8</th>\n",
       "      <th>9</th>\n",
       "      <th>...</th>\n",
       "      <th>47633</th>\n",
       "      <th>47634</th>\n",
       "      <th>47635</th>\n",
       "      <th>47636</th>\n",
       "      <th>47637</th>\n",
       "      <th>47638</th>\n",
       "      <th>47639</th>\n",
       "      <th>47640</th>\n",
       "      <th>47641</th>\n",
       "      <th>47642</th>\n",
       "    </tr>\n",
       "  </thead>\n",
       "  <tbody>\n",
       "    <tr>\n",
       "      <th>3981</th>\n",
       "      <td>0.0</td>\n",
       "      <td>0.0</td>\n",
       "      <td>0.0</td>\n",
       "      <td>0.0</td>\n",
       "      <td>0.0</td>\n",
       "      <td>0.0</td>\n",
       "      <td>0.0</td>\n",
       "      <td>0.0</td>\n",
       "      <td>0.0</td>\n",
       "      <td>0.0</td>\n",
       "      <td>...</td>\n",
       "      <td>0.0</td>\n",
       "      <td>0.0</td>\n",
       "      <td>0.0</td>\n",
       "      <td>0.0</td>\n",
       "      <td>0.0</td>\n",
       "      <td>0.0</td>\n",
       "      <td>0.0</td>\n",
       "      <td>0.0</td>\n",
       "      <td>0.0</td>\n",
       "      <td>0.0</td>\n",
       "    </tr>\n",
       "  </tbody>\n",
       "</table>\n",
       "<p>1 rows × 47643 columns</p>\n",
       "</div>"
      ],
      "text/plain": [
       "      0      1      2      3      4      5      6      7      8      9      \\\n",
       "3981    0.0    0.0    0.0    0.0    0.0    0.0    0.0    0.0    0.0    0.0   \n",
       "\n",
       "      ...    47633  47634  47635  47636  47637  47638  47639  47640  47641  \\\n",
       "3981  ...      0.0    0.0    0.0    0.0    0.0    0.0    0.0    0.0    0.0   \n",
       "\n",
       "      47642  \n",
       "3981    0.0  \n",
       "\n",
       "[1 rows x 47643 columns]"
      ]
     },
     "execution_count": 27,
     "metadata": {},
     "output_type": "execute_result"
    }
   ],
   "source": [
    "#concat full TF-IDF df with Pricing df\n",
    "kmeans_df = pd.concat([dense_df1, data3], axis=1)\n",
    "\n",
    "#convert categorial to numeric\n",
    "kmeans_df2 = kmeans_df.dropna()\n",
    "kmeans_df2.loc[kmeans_df2.iloc[:,-1] == '$','price'] = 1\n",
    "kmeans_df2.loc[kmeans_df2.iloc[:,-1] == '$$','price'] = 2\n",
    "kmeans_df2.loc[kmeans_df2.iloc[:,-1] == '$$$','price'] = 3\n",
    "kmeans_df2.loc[kmeans_df2.iloc[:,-1] == '$$$$','price'] = 4\n",
    "\n",
    "#take 10% sample of each sub sample and concatenate\n",
    "sample_price1 = kmeans_df2.query(\"price == 1\").sample(frac=.1)\n",
    "sample_price2 = kmeans_df2.query(\"price == 2\").sample(frac=.1)\n",
    "sample_price3 = kmeans_df2.query(\"price == 3\").sample(frac=.1)\n",
    "sample_price4 = kmeans_df2.query(\"price == 4\").sample(frac=.1)\n",
    "\n",
    "#once concatenated, remove vectors that are not part of the numerical array\n",
    "frames = [sample_price1,sample_price2,sample_price3,sample_price4]\n",
    "kmeans_sample = pd.concat(frames)\n",
    "kmeans_sample2 = kmeans_sample.drop(['name','price'], axis=1)\n",
    "\n",
    "kmeans_sample2.head(1)"
   ]
  },
  {
   "cell_type": "markdown",
   "metadata": {},
   "source": [
    "### Finding the Centroids"
   ]
  },
  {
   "cell_type": "code",
   "execution_count": 11,
   "metadata": {
    "collapsed": true
   },
   "outputs": [],
   "source": [
    "#define function to return the centroid array\n",
    "from sklearn.cluster import KMeans\n",
    "def find_kmeans_centroids(num):\n",
    "    kmeans_results = KMeans(n_clusters=num, random_state=0).fit(kmeans_sample2.values)\n",
    "    A = kmeans_results.cluster_centers_\n",
    "    return A"
   ]
  },
  {
   "cell_type": "code",
   "execution_count": 30,
   "metadata": {
    "collapsed": false
   },
   "outputs": [],
   "source": [
    "#vary the number of centroids to ensure I have right number of groups\n",
    "kmeans_results3 = find_kmeans_centroids(3)\n",
    "kmeans_results4 = find_kmeans_centroids(4)\n",
    "kmeans_results5 = find_kmeans_centroids(5)\n",
    "kmeans_results6 = find_kmeans_centroids(6)"
   ]
  },
  {
   "cell_type": "markdown",
   "metadata": {},
   "source": [
    "### Projecting 40k+ features to 3D"
   ]
  },
  {
   "cell_type": "code",
   "execution_count": 49,
   "metadata": {
    "collapsed": false
   },
   "outputs": [],
   "source": [
    "from sklearn.decomposition import PCA\n",
    "\n",
    "A = kmeans_results6 #change this variable based on how many centroids\n",
    "\n",
    "#Note: I projecting all 40k+ features onto only 3 dimensions\n",
    "PCA_object = PCA(n_components=3)\n",
    "PCA_object2 = pd.DataFrame(PCA_object.fit(A).transform(A), columns = ['x', 'y', 'z'])\n",
    "PCA_object2['cluster'] = PCA_object2.index #index as category for color coding"
   ]
  },
  {
   "cell_type": "markdown",
   "metadata": {},
   "source": [
    "### Graphical Justification\n",
    "Graphical intuition to give us an idea of the data based on plots based on 3 dimensions"
   ]
  },
  {
   "cell_type": "code",
   "execution_count": 50,
   "metadata": {
    "collapsed": false
   },
   "outputs": [
    {
     "data": {
      "text/plain": [
       "<seaborn.axisgrid.FacetGrid at 0x7ff439ab2790>"
      ]
     },
     "execution_count": 50,
     "metadata": {},
     "output_type": "execute_result"
    },
    {
     "data": {
      "image/png": "[encoded data removed]",
      "text/plain": [
       "<matplotlib.figure.Figure at 0x7ff439a9a910>"
      ]
     },
     "metadata": {},
     "output_type": "display_data"
    },
    {
     "data": {
      "image/png": "[encoded data removed]",
      "text/plain": [
       "<matplotlib.figure.Figure at 0x7ff439e18f90>"
      ]
     },
     "metadata": {},
     "output_type": "display_data"
    },
    {
     "data": {
      "image/png": "[encoded data removed]",
      "text/plain": [
       "<matplotlib.figure.Figure at 0x7ff435cd8a90>"
      ]
     },
     "metadata": {},
     "output_type": "display_data"
    },
    {
     "data": {
      "image/png": "[encoded data removed]",
      "text/plain": [
       "<matplotlib.figure.Figure at 0x7ff437fbb410>"
      ]
     },
     "metadata": {},
     "output_type": "display_data"
    }
   ],
   "source": [
    "fig,ax = plt.subplots(2,2)\n",
    "PCA_object2.plot('x', 'y', kind='scatter', ylim=(-.35,.4), ax=ax[0,0])\n",
    "PCA_object2.plot('x', 'z', kind='scatter', ylim=(-.35,.4), ax=ax[0,1])\n",
    "PCA_object2.plot('y', 'z', kind='scatter', ylim=(-.35,.4), ax=ax[1,0])\n",
    "\n",
    "# sns.FacetGrid\n",
    "\n",
    "sns.lmplot('x','y',data=PCA_object2, hue='cluster', fit_reg=False)\n",
    "sns.lmplot('x','z',data=PCA_object2, hue='cluster', fit_reg=False)\n",
    "sns.lmplot('y','z',data=PCA_object2, hue='cluster', fit_reg=False)"
   ]
  },
  {
   "cell_type": "code",
   "execution_count": 51,
   "metadata": {
    "collapsed": false
   },
   "outputs": [],
   "source": [
    "#cannot use FacetGrid to plot, needs to be in long format, how to do this with different dimensions?\n",
    "# g = sns.FacetGrid(PCA_object2, col=('z'), hue='cluster')\n",
    "# g.map_dataframe(plt.scatter, 'x', 'y')"
   ]
  },
  {
   "cell_type": "markdown",
   "metadata": {},
   "source": [
    "### Numerical Justification\n",
    "Using the Euclidean distance to determine the distance beween centroids"
   ]
  },
  {
   "cell_type": "code",
   "execution_count": 16,
   "metadata": {
    "collapsed": true
   },
   "outputs": [],
   "source": [
    "#define function to return the euclidean distance\n",
    "def euclid_dist(num):\n",
    "    var1 = find_kmeans_centroids(num)\n",
    "    var2 = []\n",
    "    for i in range(num):\n",
    "        for j in range (i+1, num):\n",
    "            var2.append((i,j, np.sqrt(np.sum(var1[i,:]-var1[j,:])**2)))\n",
    "    return var2"
   ]
  },
  {
   "cell_type": "code",
   "execution_count": 17,
   "metadata": {
    "collapsed": true
   },
   "outputs": [],
   "source": [
    "#vary the number of centroids to ensure I have right number of groups\n",
    "# ans3 = euclid_dist(3)\n",
    "ans4 = euclid_dist(4)\n",
    "# ans5 = euclid_dist(5)\n",
    "# ans6 = euclid_dist(6)"
   ]
  },
  {
   "cell_type": "code",
   "execution_count": 41,
   "metadata": {
    "collapsed": false
   },
   "outputs": [
    {
     "data": {
      "text/plain": [
       "[<matplotlib.lines.Line2D at 0x7f09f8841810>]"
      ]
     },
     "execution_count": 41,
     "metadata": {},
     "output_type": "execute_result"
    },
    {
     "data": {
      "image/png": "[encoded data removed]",
      "text/plain": [
       "<matplotlib.figure.Figure at 0x7f09fd2235d0>"
      ]
     },
     "metadata": {},
     "output_type": "display_data"
    }
   ],
   "source": [
    "#Graphical representation of \n",
    "plt.plot(map(lambda x:x[2],ans4))"
   ]
  }
 ],
 "metadata": {
  "kernelspec": {
   "display_name": "Python [Root]",
   "language": "python",
   "name": "Python [Root]"
  },
  "language_info": {
   "codemirror_mode": {
    "name": "ipython",
    "version": 2
   },
   "file_extension": ".py",
   "mimetype": "text/x-python",
   "name": "python",
   "nbconvert_exporter": "python",
   "pygments_lexer": "ipython2",
   "version": "2.7.12"
  }
 },
 "nbformat": 4,
 "nbformat_minor": 0
}
