{
 "cells": [
  {
   "cell_type": "code",
   "execution_count": 1,
   "metadata": {
    "collapsed": false
   },
   "outputs": [
    {
     "name": "stderr",
     "output_type": "stream",
     "text": [
      "/home/fcheung/anaconda2/lib/python2.7/site-packages/sklearn/cross_validation.py:44: DeprecationWarning: This module was deprecated in version 0.18 in favor of the model_selection module into which all the refactored classes and functions are moved. Also note that the interface of the new CV iterators are different from that of this module. This module will be removed in 0.20.\n",
      "  \"This module will be removed in 0.20.\", DeprecationWarning)\n"
     ]
    }
   ],
   "source": [
    "import pandas as pd\n",
    "import numpy as np\n",
    "import matplotlib as plt\n",
    "import sklearn as sk\n",
    "from sklearn.feature_extraction.text import TfidfVectorizer\n",
    "from sklearn.decomposition import PCA\n",
    "from sklearn.manifold import TSNE\n",
    "from sklearn.cross_validation import train_test_split"
   ]
  },
  {
   "cell_type": "code",
   "execution_count": 3,
   "metadata": {
    "collapsed": true
   },
   "outputs": [],
   "source": [
    "data1 = pd.read_table('menuitems.normalized', \" [+] \", engine = 'python', header = None)"
   ]
  },
  {
   "cell_type": "code",
   "execution_count": 4,
   "metadata": {
    "collapsed": false
   },
   "outputs": [],
   "source": [
    "data2 = data1.drop(5, axis=1)\n",
    "data2[4] = data2[4].astype(str)\n",
    "data2 = data2.groupby([3])[4].apply(lambda x: ' '.join(x)).reset_index()"
   ]
  },
  {
   "cell_type": "code",
   "execution_count": 5,
   "metadata": {
    "collapsed": false
   },
   "outputs": [
    {
     "data": {
      "text/html": [
       "<div>\n",
       "<table border=\"1\" class=\"dataframe\">\n",
       "  <thead>\n",
       "    <tr style=\"text-align: right;\">\n",
       "      <th></th>\n",
       "      <th>0</th>\n",
       "      <th>1</th>\n",
       "      <th>2</th>\n",
       "      <th>3</th>\n",
       "      <th>4</th>\n",
       "      <th>5</th>\n",
       "    </tr>\n",
       "  </thead>\n",
       "  <tbody>\n",
       "    <tr>\n",
       "      <th>0</th>\n",
       "      <td>Tiffin Etc.</td>\n",
       "      <td>indian</td>\n",
       "      <td>philadelphia</td>\n",
       "      <td>$$</td>\n",
       "      <td>aloo paratha mashed potatoes flavored with tan...</td>\n",
       "      <td>3.5</td>\n",
       "    </tr>\n",
       "    <tr>\n",
       "      <th>1</th>\n",
       "      <td>Tiffin Etc.</td>\n",
       "      <td>indian</td>\n",
       "      <td>philadelphia</td>\n",
       "      <td>$$</td>\n",
       "      <td>paneer do pyaza roll homemade cottage cheese a...</td>\n",
       "      <td>8.0</td>\n",
       "    </tr>\n",
       "    <tr>\n",
       "      <th>2</th>\n",
       "      <td>Tiffin Etc.</td>\n",
       "      <td>indian</td>\n",
       "      <td>philadelphia</td>\n",
       "      <td>$$</td>\n",
       "      <td>masala aloo roll pan fried spiced potatoes and...</td>\n",
       "      <td>5.5</td>\n",
       "    </tr>\n",
       "    <tr>\n",
       "      <th>3</th>\n",
       "      <td>Tiffin Etc.</td>\n",
       "      <td>indian</td>\n",
       "      <td>philadelphia</td>\n",
       "      <td>$$</td>\n",
       "      <td>bhuna chicken roll tender fire roasted chicken...</td>\n",
       "      <td>6.5</td>\n",
       "    </tr>\n",
       "    <tr>\n",
       "      <th>4</th>\n",
       "      <td>Tiffin Etc.</td>\n",
       "      <td>indian</td>\n",
       "      <td>philadelphia</td>\n",
       "      <td>$$</td>\n",
       "      <td>murg tikka roll tandoori chicken kebabs with c...</td>\n",
       "      <td>6.5</td>\n",
       "    </tr>\n",
       "  </tbody>\n",
       "</table>\n",
       "</div>"
      ],
      "text/plain": [
       "             0       1             2   3  \\\n",
       "0  Tiffin Etc.  indian  philadelphia  $$   \n",
       "1  Tiffin Etc.  indian  philadelphia  $$   \n",
       "2  Tiffin Etc.  indian  philadelphia  $$   \n",
       "3  Tiffin Etc.  indian  philadelphia  $$   \n",
       "4  Tiffin Etc.  indian  philadelphia  $$   \n",
       "\n",
       "                                                   4    5  \n",
       "0  aloo paratha mashed potatoes flavored with tan...  3.5  \n",
       "1  paneer do pyaza roll homemade cottage cheese a...  8.0  \n",
       "2  masala aloo roll pan fried spiced potatoes and...  5.5  \n",
       "3  bhuna chicken roll tender fire roasted chicken...  6.5  \n",
       "4  murg tikka roll tandoori chicken kebabs with c...  6.5  "
      ]
     },
     "execution_count": 5,
     "metadata": {},
     "output_type": "execute_result"
    }
   ],
   "source": [
    "data1.head()"
   ]
  },
  {
   "cell_type": "code",
   "execution_count": 6,
   "metadata": {
    "collapsed": false
   },
   "outputs": [
    {
     "data": {
      "text/html": [
       "<div>\n",
       "<table border=\"1\" class=\"dataframe\">\n",
       "  <thead>\n",
       "    <tr style=\"text-align: right;\">\n",
       "      <th></th>\n",
       "      <th>0</th>\n",
       "      <th>1</th>\n",
       "      <th>2</th>\n",
       "      <th>4</th>\n",
       "      <th>5</th>\n",
       "    </tr>\n",
       "    <tr>\n",
       "      <th>3</th>\n",
       "      <th></th>\n",
       "      <th></th>\n",
       "      <th></th>\n",
       "      <th></th>\n",
       "      <th></th>\n",
       "    </tr>\n",
       "  </thead>\n",
       "  <tbody>\n",
       "    <tr>\n",
       "      <th>$</th>\n",
       "      <td>251440</td>\n",
       "      <td>251440</td>\n",
       "      <td>251440</td>\n",
       "      <td>251439</td>\n",
       "      <td>249034</td>\n",
       "    </tr>\n",
       "    <tr>\n",
       "      <th>$$</th>\n",
       "      <td>290879</td>\n",
       "      <td>290923</td>\n",
       "      <td>290923</td>\n",
       "      <td>290916</td>\n",
       "      <td>288508</td>\n",
       "    </tr>\n",
       "    <tr>\n",
       "      <th>$$$</th>\n",
       "      <td>42269</td>\n",
       "      <td>42287</td>\n",
       "      <td>42287</td>\n",
       "      <td>42287</td>\n",
       "      <td>42114</td>\n",
       "    </tr>\n",
       "    <tr>\n",
       "      <th>$$$$</th>\n",
       "      <td>7330</td>\n",
       "      <td>7330</td>\n",
       "      <td>7330</td>\n",
       "      <td>7330</td>\n",
       "      <td>7330</td>\n",
       "    </tr>\n",
       "  </tbody>\n",
       "</table>\n",
       "</div>"
      ],
      "text/plain": [
       "           0       1       2       4       5\n",
       "3                                           \n",
       "$     251440  251440  251440  251439  249034\n",
       "$$    290879  290923  290923  290916  288508\n",
       "$$$    42269   42287   42287   42287   42114\n",
       "$$$$    7330    7330    7330    7330    7330"
      ]
     },
     "execution_count": 6,
     "metadata": {},
     "output_type": "execute_result"
    }
   ],
   "source": [
    "data1.groupby([3]).count()"
   ]
  },
  {
   "cell_type": "code",
   "execution_count": 7,
   "metadata": {
    "collapsed": false
   },
   "outputs": [
    {
     "data": {
      "text/html": [
       "<div>\n",
       "<table border=\"1\" class=\"dataframe\">\n",
       "  <thead>\n",
       "    <tr style=\"text-align: right;\">\n",
       "      <th></th>\n",
       "      <th>0</th>\n",
       "      <th>1</th>\n",
       "      <th>2</th>\n",
       "      <th>3</th>\n",
       "      <th>4</th>\n",
       "      <th>5</th>\n",
       "    </tr>\n",
       "  </thead>\n",
       "  <tbody>\n",
       "    <tr>\n",
       "      <th>0</th>\n",
       "      <td>Tiffin Etc.</td>\n",
       "      <td>indian</td>\n",
       "      <td>philadelphia</td>\n",
       "      <td>$$</td>\n",
       "      <td>aloo paratha mashed potatoes flavored with tan...</td>\n",
       "      <td>3.5</td>\n",
       "    </tr>\n",
       "    <tr>\n",
       "      <th>1</th>\n",
       "      <td>Tiffin Etc.</td>\n",
       "      <td>indian</td>\n",
       "      <td>philadelphia</td>\n",
       "      <td>$$</td>\n",
       "      <td>paneer do pyaza roll homemade cottage cheese a...</td>\n",
       "      <td>8.0</td>\n",
       "    </tr>\n",
       "    <tr>\n",
       "      <th>2</th>\n",
       "      <td>Tiffin Etc.</td>\n",
       "      <td>indian</td>\n",
       "      <td>philadelphia</td>\n",
       "      <td>$$</td>\n",
       "      <td>masala aloo roll pan fried spiced potatoes and...</td>\n",
       "      <td>5.5</td>\n",
       "    </tr>\n",
       "    <tr>\n",
       "      <th>3</th>\n",
       "      <td>Tiffin Etc.</td>\n",
       "      <td>indian</td>\n",
       "      <td>philadelphia</td>\n",
       "      <td>$$</td>\n",
       "      <td>bhuna chicken roll tender fire roasted chicken...</td>\n",
       "      <td>6.5</td>\n",
       "    </tr>\n",
       "    <tr>\n",
       "      <th>4</th>\n",
       "      <td>Tiffin Etc.</td>\n",
       "      <td>indian</td>\n",
       "      <td>philadelphia</td>\n",
       "      <td>$$</td>\n",
       "      <td>murg tikka roll tandoori chicken kebabs with c...</td>\n",
       "      <td>6.5</td>\n",
       "    </tr>\n",
       "  </tbody>\n",
       "</table>\n",
       "</div>"
      ],
      "text/plain": [
       "             0       1             2   3  \\\n",
       "0  Tiffin Etc.  indian  philadelphia  $$   \n",
       "1  Tiffin Etc.  indian  philadelphia  $$   \n",
       "2  Tiffin Etc.  indian  philadelphia  $$   \n",
       "3  Tiffin Etc.  indian  philadelphia  $$   \n",
       "4  Tiffin Etc.  indian  philadelphia  $$   \n",
       "\n",
       "                                                   4    5  \n",
       "0  aloo paratha mashed potatoes flavored with tan...  3.5  \n",
       "1  paneer do pyaza roll homemade cottage cheese a...  8.0  \n",
       "2  masala aloo roll pan fried spiced potatoes and...  5.5  \n",
       "3  bhuna chicken roll tender fire roasted chicken...  6.5  \n",
       "4  murg tikka roll tandoori chicken kebabs with c...  6.5  "
      ]
     },
     "execution_count": 7,
     "metadata": {},
     "output_type": "execute_result"
    }
   ],
   "source": [
    "data1.head()"
   ]
  },
  {
   "cell_type": "code",
   "execution_count": 8,
   "metadata": {
    "collapsed": false
   },
   "outputs": [
    {
     "data": {
      "text/html": [
       "<div>\n",
       "<table border=\"1\" class=\"dataframe\">\n",
       "  <thead>\n",
       "    <tr style=\"text-align: right;\">\n",
       "      <th></th>\n",
       "      <th>3</th>\n",
       "      <th>4</th>\n",
       "    </tr>\n",
       "  </thead>\n",
       "  <tbody>\n",
       "    <tr>\n",
       "      <th>0</th>\n",
       "      <td>$</td>\n",
       "      <td>garden salad w cheese spaghetti or penne regul...</td>\n",
       "    </tr>\n",
       "    <tr>\n",
       "      <th>1</th>\n",
       "      <td>$$</td>\n",
       "      <td>aloo paratha mashed potatoes flavored with tan...</td>\n",
       "    </tr>\n",
       "    <tr>\n",
       "      <th>2</th>\n",
       "      <td>$$$</td>\n",
       "      <td>pennsylvania chicken stew of plum tomatoes oli...</td>\n",
       "    </tr>\n",
       "    <tr>\n",
       "      <th>3</th>\n",
       "      <td>$$$$</td>\n",
       "      <td>saccotino saloon salad mixed greens onion pepp...</td>\n",
       "    </tr>\n",
       "  </tbody>\n",
       "</table>\n",
       "</div>"
      ],
      "text/plain": [
       "      3                                                  4\n",
       "0     $  garden salad w cheese spaghetti or penne regul...\n",
       "1    $$  aloo paratha mashed potatoes flavored with tan...\n",
       "2   $$$  pennsylvania chicken stew of plum tomatoes oli...\n",
       "3  $$$$  saccotino saloon salad mixed greens onion pepp..."
      ]
     },
     "execution_count": 8,
     "metadata": {},
     "output_type": "execute_result"
    }
   ],
   "source": [
    "data2.head()"
   ]
  },
  {
   "cell_type": "code",
   "execution_count": 9,
   "metadata": {
    "collapsed": false
   },
   "outputs": [
    {
     "data": {
      "text/html": [
       "<div>\n",
       "<table border=\"1\" class=\"dataframe\">\n",
       "  <thead>\n",
       "    <tr style=\"text-align: right;\">\n",
       "      <th></th>\n",
       "      <th>3</th>\n",
       "      <th>4</th>\n",
       "    </tr>\n",
       "  </thead>\n",
       "  <tbody>\n",
       "    <tr>\n",
       "      <th>0</th>\n",
       "      <td>$</td>\n",
       "      <td>garden salad w cheese spaghetti or penne regul...</td>\n",
       "    </tr>\n",
       "    <tr>\n",
       "      <th>1</th>\n",
       "      <td>$$</td>\n",
       "      <td>aloo paratha mashed potatoes flavored with tan...</td>\n",
       "    </tr>\n",
       "    <tr>\n",
       "      <th>2</th>\n",
       "      <td>$$$</td>\n",
       "      <td>pennsylvania chicken stew of plum tomatoes oli...</td>\n",
       "    </tr>\n",
       "    <tr>\n",
       "      <th>3</th>\n",
       "      <td>$$$$</td>\n",
       "      <td>saccotino saloon salad mixed greens onion pepp...</td>\n",
       "    </tr>\n",
       "  </tbody>\n",
       "</table>\n",
       "</div>"
      ],
      "text/plain": [
       "      3                                                  4\n",
       "0     $  garden salad w cheese spaghetti or penne regul...\n",
       "1    $$  aloo paratha mashed potatoes flavored with tan...\n",
       "2   $$$  pennsylvania chicken stew of plum tomatoes oli...\n",
       "3  $$$$  saccotino saloon salad mixed greens onion pepp..."
      ]
     },
     "execution_count": 9,
     "metadata": {},
     "output_type": "execute_result"
    }
   ],
   "source": [
    "data2#.loc[[3],[4]]"
   ]
  },
  {
   "cell_type": "code",
   "execution_count": 30,
   "metadata": {
    "collapsed": false
   },
   "outputs": [],
   "source": [
    "word_low = data2.loc[0,4]+data2.loc[1,4]\n",
    "word_high = data2.loc[2,4]"
   ]
  },
  {
   "cell_type": "code",
   "execution_count": 57,
   "metadata": {
    "collapsed": false
   },
   "outputs": [],
   "source": [
    "v = TfidfVectorizer(stop_words = 'english', max_features=1000)"
   ]
  },
  {
   "cell_type": "code",
   "execution_count": 58,
   "metadata": {
    "collapsed": false
   },
   "outputs": [],
   "source": [
    "y = v.fit_transform([word_low, word_high])"
   ]
  },
  {
   "cell_type": "code",
   "execution_count": 59,
   "metadata": {
    "collapsed": false
   },
   "outputs": [
    {
     "data": {
      "text/plain": [
       "(2, 1000)"
      ]
     },
     "execution_count": 59,
     "metadata": {},
     "output_type": "execute_result"
    }
   ],
   "source": [
    "y.shape"
   ]
  },
  {
   "cell_type": "code",
   "execution_count": 60,
   "metadata": {
    "collapsed": true
   },
   "outputs": [],
   "source": [
    "import matplotlib.pyplot as plt\n",
    "%matplotlib inline"
   ]
  },
  {
   "cell_type": "code",
   "execution_count": 61,
   "metadata": {
    "collapsed": false
   },
   "outputs": [
    {
     "data": {
      "text/plain": [
       "<matplotlib.collections.PathCollection at 0x7fcc220a58d0>"
      ]
     },
     "execution_count": 61,
     "metadata": {},
     "output_type": "execute_result"
    },
    {
     "data": {
      "image/png": "[encoded data removed]",
      "text/plain": [
       "<matplotlib.figure.Figure at 0x7fcc22210f50>"
      ]
     },
     "metadata": {},
     "output_type": "display_data"
    }
   ],
   "source": [
    "plt.scatter(y.toarray()[0,500:], y.toarray()[1,500:], alpha = 0.1)"
   ]
  },
  {
   "cell_type": "code",
   "execution_count": 14,
   "metadata": {
    "collapsed": false
   },
   "outputs": [],
   "source": [
    "words = pd.Series(v.get_feature_names())"
   ]
  },
  {
   "cell_type": "code",
   "execution_count": 16,
   "metadata": {
    "collapsed": false
   },
   "outputs": [
    {
     "data": {
      "text/plain": [
       "scipy.sparse.csr.csr_matrix"
      ]
     },
     "execution_count": 16,
     "metadata": {},
     "output_type": "execute_result"
    }
   ],
   "source": [
    "type(x)"
   ]
  },
  {
   "cell_type": "code",
   "execution_count": 17,
   "metadata": {
    "collapsed": false
   },
   "outputs": [
    {
     "data": {
      "text/plain": [
       "(4, 47897)"
      ]
     },
     "execution_count": 17,
     "metadata": {},
     "output_type": "execute_result"
    }
   ],
   "source": [
    "x.shape"
   ]
  },
  {
   "cell_type": "code",
   "execution_count": 18,
   "metadata": {
    "collapsed": false
   },
   "outputs": [
    {
     "data": {
      "text/plain": [
       "Index([u'0', u'1', u'2', u'3'], dtype='object')"
      ]
     },
     "execution_count": 18,
     "metadata": {},
     "output_type": "execute_result"
    }
   ],
   "source": [
    "df_corpus = pd.DataFrame(x.toarray().T, columns=['0','1','2','3'])\n",
    "df_corpus.columns"
   ]
  },
  {
   "cell_type": "code",
   "execution_count": 27,
   "metadata": {
    "collapsed": false
   },
   "outputs": [],
   "source": [
    "df_corpus2 = np.array(df_corpus)"
   ]
  },
  {
   "cell_type": "code",
   "execution_count": 20,
   "metadata": {
    "collapsed": false
   },
   "outputs": [],
   "source": [
    "rest0 = df_corpus.sort_values('0', ascending=False).head(50).index #[11:20]\n",
    "rest1 = df_corpus.sort_values('1', ascending=False).head(50).index #[11:20]\n",
    "rest2 = df_corpus.sort_values('2', ascending=False).head(50).index #[11:20]\n",
    "rest3 = df_corpus.sort_values('3', ascending=False).head(50).index #[11:20]"
   ]
  },
  {
   "cell_type": "code",
   "execution_count": 21,
   "metadata": {
    "collapsed": false
   },
   "outputs": [
    {
     "data": {
      "text/plain": [
       "(47897,)"
      ]
     },
     "execution_count": 21,
     "metadata": {},
     "output_type": "execute_result"
    }
   ],
   "source": [
    "words.shape"
   ]
  },
  {
   "cell_type": "code",
   "execution_count": 2,
   "metadata": {
    "collapsed": true
   },
   "outputs": [],
   "source": [
    "?train_test_split"
   ]
  },
  {
   "cell_type": "code",
   "execution_count": null,
   "metadata": {
    "collapsed": true
   },
   "outputs": [],
   "source": []
  }
 ],
 "metadata": {
  "kernelspec": {
   "display_name": "Python [Root]",
   "language": "python",
   "name": "Python [Root]"
  },
  "language_info": {
   "codemirror_mode": {
    "name": "ipython",
    "version": 2
   },
   "file_extension": ".py",
   "mimetype": "text/x-python",
   "name": "python",
   "nbconvert_exporter": "python",
   "pygments_lexer": "ipython2",
   "version": "2.7.12"
  }
 },
 "nbformat": 4,
 "nbformat_minor": 0
}
