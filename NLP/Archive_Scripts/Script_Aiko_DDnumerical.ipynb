{
 "cells": [
  {
   "cell_type": "code",
   "execution_count": 2,
   "metadata": {
    "collapsed": true
   },
   "outputs": [],
   "source": [
    "import pandas as pd\n",
    "import numpy as np\n",
    "import seaborn as sns\n",
    "import matplotlib.pyplot as plt\n",
    "%matplotlib inline\n",
    "import sklearn as sk\n",
    "from sklearn.decomposition import PCA\n",
    "from sklearn.feature_extraction.text import TfidfVectorizer\n",
    "from sklearn.manifold import TSNE"
   ]
  },
  {
   "cell_type": "code",
   "execution_count": 3,
   "metadata": {
    "collapsed": true
   },
   "outputs": [],
   "source": [
    "data1 = pd.read_table('menuitems.normalized', \" [+] \", engine = 'python', header = None)"
   ]
  },
  {
   "cell_type": "code",
   "execution_count": 4,
   "metadata": {
    "collapsed": false
   },
   "outputs": [],
   "source": [
    "data2 = data1.drop(5, axis=1)\n",
    "data2[4] = data2[4].astype(str)\n",
    "data2 = data2.groupby([0,3])[4].apply(lambda x: ' '.join(x)).reset_index()\n",
    "#data3 = data2.groupby([0,3])[4].apply(lambda x: ' '.join(x)).reset_index()"
   ]
  },
  {
   "cell_type": "code",
   "execution_count": 5,
   "metadata": {
    "collapsed": false
   },
   "outputs": [
    {
     "data": {
      "text/html": [
       "<div>\n",
       "<table border=\"1\" class=\"dataframe\">\n",
       "  <thead>\n",
       "    <tr style=\"text-align: right;\">\n",
       "      <th></th>\n",
       "      <th>0</th>\n",
       "      <th>1</th>\n",
       "      <th>2</th>\n",
       "      <th>3</th>\n",
       "      <th>4</th>\n",
       "      <th>5</th>\n",
       "    </tr>\n",
       "  </thead>\n",
       "  <tbody>\n",
       "    <tr>\n",
       "      <th>0</th>\n",
       "      <td>Tiffin Etc.</td>\n",
       "      <td>indian</td>\n",
       "      <td>philadelphia</td>\n",
       "      <td>$$</td>\n",
       "      <td>aloo paratha mashed potatoes flavored with tan...</td>\n",
       "      <td>3.5</td>\n",
       "    </tr>\n",
       "    <tr>\n",
       "      <th>1</th>\n",
       "      <td>Tiffin Etc.</td>\n",
       "      <td>indian</td>\n",
       "      <td>philadelphia</td>\n",
       "      <td>$$</td>\n",
       "      <td>paneer do pyaza roll homemade cottage cheese a...</td>\n",
       "      <td>8.0</td>\n",
       "    </tr>\n",
       "    <tr>\n",
       "      <th>2</th>\n",
       "      <td>Tiffin Etc.</td>\n",
       "      <td>indian</td>\n",
       "      <td>philadelphia</td>\n",
       "      <td>$$</td>\n",
       "      <td>masala aloo roll pan fried spiced potatoes and...</td>\n",
       "      <td>5.5</td>\n",
       "    </tr>\n",
       "    <tr>\n",
       "      <th>3</th>\n",
       "      <td>Tiffin Etc.</td>\n",
       "      <td>indian</td>\n",
       "      <td>philadelphia</td>\n",
       "      <td>$$</td>\n",
       "      <td>bhuna chicken roll tender fire roasted chicken...</td>\n",
       "      <td>6.5</td>\n",
       "    </tr>\n",
       "    <tr>\n",
       "      <th>4</th>\n",
       "      <td>Tiffin Etc.</td>\n",
       "      <td>indian</td>\n",
       "      <td>philadelphia</td>\n",
       "      <td>$$</td>\n",
       "      <td>murg tikka roll tandoori chicken kebabs with c...</td>\n",
       "      <td>6.5</td>\n",
       "    </tr>\n",
       "  </tbody>\n",
       "</table>\n",
       "</div>"
      ],
      "text/plain": [
       "             0       1             2   3  \\\n",
       "0  Tiffin Etc.  indian  philadelphia  $$   \n",
       "1  Tiffin Etc.  indian  philadelphia  $$   \n",
       "2  Tiffin Etc.  indian  philadelphia  $$   \n",
       "3  Tiffin Etc.  indian  philadelphia  $$   \n",
       "4  Tiffin Etc.  indian  philadelphia  $$   \n",
       "\n",
       "                                                   4    5  \n",
       "0  aloo paratha mashed potatoes flavored with tan...  3.5  \n",
       "1  paneer do pyaza roll homemade cottage cheese a...  8.0  \n",
       "2  masala aloo roll pan fried spiced potatoes and...  5.5  \n",
       "3  bhuna chicken roll tender fire roasted chicken...  6.5  \n",
       "4  murg tikka roll tandoori chicken kebabs with c...  6.5  "
      ]
     },
     "execution_count": 5,
     "metadata": {},
     "output_type": "execute_result"
    }
   ],
   "source": [
    "data1.head()"
   ]
  },
  {
   "cell_type": "code",
   "execution_count": 6,
   "metadata": {
    "collapsed": false
   },
   "outputs": [
    {
     "data": {
      "text/html": [
       "<div>\n",
       "<table border=\"1\" class=\"dataframe\">\n",
       "  <thead>\n",
       "    <tr style=\"text-align: right;\">\n",
       "      <th></th>\n",
       "      <th>name</th>\n",
       "      <th>price</th>\n",
       "    </tr>\n",
       "  </thead>\n",
       "  <tbody>\n",
       "    <tr>\n",
       "      <th>0</th>\n",
       "      <td>#1 Chop Suey</td>\n",
       "      <td>$</td>\n",
       "    </tr>\n",
       "    <tr>\n",
       "      <th>1</th>\n",
       "      <td>'Inoteca</td>\n",
       "      <td>$$</td>\n",
       "    </tr>\n",
       "    <tr>\n",
       "      <th>2</th>\n",
       "      <td>'ino</td>\n",
       "      <td>$$</td>\n",
       "    </tr>\n",
       "    <tr>\n",
       "      <th>3</th>\n",
       "      <td>'sNice</td>\n",
       "      <td>$</td>\n",
       "    </tr>\n",
       "    <tr>\n",
       "      <th>4</th>\n",
       "      <td>1 Fish, 2 Fish</td>\n",
       "      <td>$</td>\n",
       "    </tr>\n",
       "  </tbody>\n",
       "</table>\n",
       "</div>"
      ],
      "text/plain": [
       "             name price\n",
       "0    #1 Chop Suey     $\n",
       "1        'Inoteca    $$\n",
       "2            'ino    $$\n",
       "3          'sNice     $\n",
       "4  1 Fish, 2 Fish     $"
      ]
     },
     "execution_count": 6,
     "metadata": {},
     "output_type": "execute_result"
    }
   ],
   "source": [
    "data3 = data2.drop(4, axis = 1)\n",
    "data3.columns = ['name','price']\n",
    "data3.head()"
   ]
  },
  {
   "cell_type": "code",
   "execution_count": 7,
   "metadata": {
    "collapsed": false
   },
   "outputs": [
    {
     "data": {
      "text/html": [
       "<div>\n",
       "<table border=\"1\" class=\"dataframe\">\n",
       "  <thead>\n",
       "    <tr style=\"text-align: right;\">\n",
       "      <th></th>\n",
       "      <th>name</th>\n",
       "      <th>menu</th>\n",
       "    </tr>\n",
       "  </thead>\n",
       "  <tbody>\n",
       "    <tr>\n",
       "      <th>0</th>\n",
       "      <td>#1 Chop Suey</td>\n",
       "      <td>pork noodle soup large ham small extra onion h...</td>\n",
       "    </tr>\n",
       "    <tr>\n",
       "      <th>1</th>\n",
       "      <td>'Inoteca</td>\n",
       "      <td>soppressata mortadella coppa speck cioccolata ...</td>\n",
       "    </tr>\n",
       "    <tr>\n",
       "      <th>2</th>\n",
       "      <td>'ino</td>\n",
       "      <td>egg fontina bruschetta egg fontina bruschetta ...</td>\n",
       "    </tr>\n",
       "    <tr>\n",
       "      <th>3</th>\n",
       "      <td>'sNice</td>\n",
       "      <td>brie pear and arugula with raspberry mustard h...</td>\n",
       "    </tr>\n",
       "    <tr>\n",
       "      <th>4</th>\n",
       "      <td>1 Fish, 2 Fish</td>\n",
       "      <td>sushi sashimi combo hunan shrimp shrimp with s...</td>\n",
       "    </tr>\n",
       "  </tbody>\n",
       "</table>\n",
       "</div>"
      ],
      "text/plain": [
       "             name                                               menu\n",
       "0    #1 Chop Suey  pork noodle soup large ham small extra onion h...\n",
       "1        'Inoteca  soppressata mortadella coppa speck cioccolata ...\n",
       "2            'ino  egg fontina bruschetta egg fontina bruschetta ...\n",
       "3          'sNice  brie pear and arugula with raspberry mustard h...\n",
       "4  1 Fish, 2 Fish  sushi sashimi combo hunan shrimp shrimp with s..."
      ]
     },
     "execution_count": 7,
     "metadata": {},
     "output_type": "execute_result"
    }
   ],
   "source": [
    "data4 = data2.drop(3, axis=1)\n",
    "data4.columns = ['name','menu']\n",
    "data4.head()"
   ]
  },
  {
   "cell_type": "code",
   "execution_count": 8,
   "metadata": {
    "collapsed": true
   },
   "outputs": [],
   "source": [
    "#data2.head()\n",
    "#data2.loc[[0],[4]]\n",
    "data_dict = data4 #.drop([1,2,3], axis=1)\n",
    "data_dict.head()\n",
    "data_dict2 = data_dict.set_index('name')['menu'].to_dict()"
   ]
  },
  {
   "cell_type": "code",
   "execution_count": 9,
   "metadata": {
    "collapsed": false,
    "scrolled": false
   },
   "outputs": [
    {
     "data": {
      "text/plain": [
       "'chilled corn soup with cilantro royale shellfish emulsion salad of heirloom tomato sheep s milk ricotta baby coconut solera vinegar carpaccio of octopus artichoke vinaigrette sardines on toast avocado black olive basil roasted maine scallops english oeas hazelnut and brown butter braised escolar fried green tomatoes minestrone broth toasted alaskan spot prawns tater tots whole roasted fish of the day galantine of guinea hen macerated peaches oven roasted bone marrow vandouvan crust foie gras candy bar macadamia cocoa butter chocolate orchid fruit braised beef rib homemade steak sauce roasted day aged strip loin of beef forestiere sauce roasted all natural chicken leg fricassee muscovy duck breast spicy duck meatballs gumbo jus pan grilled house made half smoke sausage walla walla onion condiment summer vegetable tart tomato fondue fregola sarda with cabra la mancha cheese and shelling beans wood oven roasted fingerlings with pickled radishes potato puree with fresh garlic hand cut bdt triple fries polenta wild mushrooms daily harvest vegetables baby green romaine green goddess dressing marinated cucumbers house made yoghurt warm pie of zucchini eggplant rosace baby beets with candied orange peel marcona almonds local bean with tomato vinaigrette and purslane summer succotash with chanterelles hyssop'"
      ]
     },
     "execution_count": 9,
     "metadata": {},
     "output_type": "execute_result"
    }
   ],
   "source": [
    "data_dict2.itervalues().next()\n",
    "#data_dict2"
   ]
  },
  {
   "cell_type": "code",
   "execution_count": 10,
   "metadata": {
    "collapsed": false
   },
   "outputs": [],
   "source": [
    "v = TfidfVectorizer(stop_words = 'english')\n",
    "x = v.fit_transform(data_dict2.values())"
   ]
  },
  {
   "cell_type": "code",
   "execution_count": 11,
   "metadata": {
    "collapsed": false
   },
   "outputs": [
    {
     "data": {
      "text/plain": [
       "(5917, 47643)"
      ]
     },
     "execution_count": 11,
     "metadata": {},
     "output_type": "execute_result"
    }
   ],
   "source": [
    "x.shape"
   ]
  },
  {
   "cell_type": "code",
   "execution_count": 12,
   "metadata": {
    "collapsed": false
   },
   "outputs": [],
   "source": [
    "#http://stackoverflow.com/questions/36587702/convert-sparse-matrix-csc-matrix-to-pandas-dataframe\n",
    "#Give me a dataframe with all restaurants as observations\n",
    "#this is what you will use for PCA plotting\n",
    "dense_df1 = pd.DataFrame(x.toarray())\n",
    "#dense_df1.head()"
   ]
  },
  {
   "cell_type": "code",
   "execution_count": 13,
   "metadata": {
    "collapsed": false
   },
   "outputs": [
    {
     "data": {
      "text/plain": [
       "(5917, 47643)"
      ]
     },
     "execution_count": 13,
     "metadata": {},
     "output_type": "execute_result"
    }
   ],
   "source": [
    "dense_df1.shape"
   ]
  },
  {
   "cell_type": "code",
   "execution_count": 14,
   "metadata": {
    "collapsed": false
   },
   "outputs": [
    {
     "name": "stderr",
     "output_type": "stream",
     "text": [
      "/home/fcheung/anaconda2/lib/python2.7/site-packages/sklearn/cross_validation.py:44: DeprecationWarning: This module was deprecated in version 0.18 in favor of the model_selection module into which all the refactored classes and functions are moved. Also note that the interface of the new CV iterators are different from that of this module. This module will be removed in 0.20.\n",
      "  \"This module will be removed in 0.20.\", DeprecationWarning)\n"
     ]
    },
    {
     "data": {
      "text/html": [
       "<div>\n",
       "<table border=\"1\" class=\"dataframe\">\n",
       "  <thead>\n",
       "    <tr style=\"text-align: right;\">\n",
       "      <th></th>\n",
       "      <th>0</th>\n",
       "      <th>1</th>\n",
       "      <th>2</th>\n",
       "      <th>3</th>\n",
       "      <th>4</th>\n",
       "      <th>5</th>\n",
       "      <th>6</th>\n",
       "      <th>7</th>\n",
       "      <th>8</th>\n",
       "      <th>9</th>\n",
       "      <th>...</th>\n",
       "      <th>47635</th>\n",
       "      <th>47636</th>\n",
       "      <th>47637</th>\n",
       "      <th>47638</th>\n",
       "      <th>47639</th>\n",
       "      <th>47640</th>\n",
       "      <th>47641</th>\n",
       "      <th>47642</th>\n",
       "      <th>name</th>\n",
       "      <th>price</th>\n",
       "    </tr>\n",
       "  </thead>\n",
       "  <tbody>\n",
       "    <tr>\n",
       "      <th>0</th>\n",
       "      <td>0.0</td>\n",
       "      <td>0.0</td>\n",
       "      <td>0.0</td>\n",
       "      <td>0.0</td>\n",
       "      <td>0.0</td>\n",
       "      <td>0.0</td>\n",
       "      <td>0.0</td>\n",
       "      <td>0.0</td>\n",
       "      <td>0.0</td>\n",
       "      <td>0.0</td>\n",
       "      <td>...</td>\n",
       "      <td>0.0</td>\n",
       "      <td>0.0</td>\n",
       "      <td>0.0</td>\n",
       "      <td>0.0</td>\n",
       "      <td>0.0</td>\n",
       "      <td>0.0</td>\n",
       "      <td>0.0</td>\n",
       "      <td>0.0</td>\n",
       "      <td>#1 Chop Suey</td>\n",
       "      <td>$</td>\n",
       "    </tr>\n",
       "    <tr>\n",
       "      <th>1</th>\n",
       "      <td>0.0</td>\n",
       "      <td>0.0</td>\n",
       "      <td>0.0</td>\n",
       "      <td>0.0</td>\n",
       "      <td>0.0</td>\n",
       "      <td>0.0</td>\n",
       "      <td>0.0</td>\n",
       "      <td>0.0</td>\n",
       "      <td>0.0</td>\n",
       "      <td>0.0</td>\n",
       "      <td>...</td>\n",
       "      <td>0.0</td>\n",
       "      <td>0.0</td>\n",
       "      <td>0.0</td>\n",
       "      <td>0.0</td>\n",
       "      <td>0.0</td>\n",
       "      <td>0.0</td>\n",
       "      <td>0.0</td>\n",
       "      <td>0.0</td>\n",
       "      <td>'Inoteca</td>\n",
       "      <td>$$</td>\n",
       "    </tr>\n",
       "    <tr>\n",
       "      <th>2</th>\n",
       "      <td>0.0</td>\n",
       "      <td>0.0</td>\n",
       "      <td>0.0</td>\n",
       "      <td>0.0</td>\n",
       "      <td>0.0</td>\n",
       "      <td>0.0</td>\n",
       "      <td>0.0</td>\n",
       "      <td>0.0</td>\n",
       "      <td>0.0</td>\n",
       "      <td>0.0</td>\n",
       "      <td>...</td>\n",
       "      <td>0.0</td>\n",
       "      <td>0.0</td>\n",
       "      <td>0.0</td>\n",
       "      <td>0.0</td>\n",
       "      <td>0.0</td>\n",
       "      <td>0.0</td>\n",
       "      <td>0.0</td>\n",
       "      <td>0.0</td>\n",
       "      <td>'ino</td>\n",
       "      <td>$$</td>\n",
       "    </tr>\n",
       "    <tr>\n",
       "      <th>3</th>\n",
       "      <td>0.0</td>\n",
       "      <td>0.0</td>\n",
       "      <td>0.0</td>\n",
       "      <td>0.0</td>\n",
       "      <td>0.0</td>\n",
       "      <td>0.0</td>\n",
       "      <td>0.0</td>\n",
       "      <td>0.0</td>\n",
       "      <td>0.0</td>\n",
       "      <td>0.0</td>\n",
       "      <td>...</td>\n",
       "      <td>0.0</td>\n",
       "      <td>0.0</td>\n",
       "      <td>0.0</td>\n",
       "      <td>0.0</td>\n",
       "      <td>0.0</td>\n",
       "      <td>0.0</td>\n",
       "      <td>0.0</td>\n",
       "      <td>0.0</td>\n",
       "      <td>'sNice</td>\n",
       "      <td>$</td>\n",
       "    </tr>\n",
       "    <tr>\n",
       "      <th>4</th>\n",
       "      <td>0.0</td>\n",
       "      <td>0.0</td>\n",
       "      <td>0.0</td>\n",
       "      <td>0.0</td>\n",
       "      <td>0.0</td>\n",
       "      <td>0.0</td>\n",
       "      <td>0.0</td>\n",
       "      <td>0.0</td>\n",
       "      <td>0.0</td>\n",
       "      <td>0.0</td>\n",
       "      <td>...</td>\n",
       "      <td>0.0</td>\n",
       "      <td>0.0</td>\n",
       "      <td>0.0</td>\n",
       "      <td>0.0</td>\n",
       "      <td>0.0</td>\n",
       "      <td>0.0</td>\n",
       "      <td>0.0</td>\n",
       "      <td>0.0</td>\n",
       "      <td>1 Fish, 2 Fish</td>\n",
       "      <td>$</td>\n",
       "    </tr>\n",
       "  </tbody>\n",
       "</table>\n",
       "<p>5 rows × 47645 columns</p>\n",
       "</div>"
      ],
      "text/plain": [
       "     0    1    2    3    4    5    6    7    8    9  ...    47635  47636  \\\n",
       "0  0.0  0.0  0.0  0.0  0.0  0.0  0.0  0.0  0.0  0.0  ...      0.0    0.0   \n",
       "1  0.0  0.0  0.0  0.0  0.0  0.0  0.0  0.0  0.0  0.0  ...      0.0    0.0   \n",
       "2  0.0  0.0  0.0  0.0  0.0  0.0  0.0  0.0  0.0  0.0  ...      0.0    0.0   \n",
       "3  0.0  0.0  0.0  0.0  0.0  0.0  0.0  0.0  0.0  0.0  ...      0.0    0.0   \n",
       "4  0.0  0.0  0.0  0.0  0.0  0.0  0.0  0.0  0.0  0.0  ...      0.0    0.0   \n",
       "\n",
       "   47637  47638  47639  47640  47641  47642            name  price  \n",
       "0    0.0    0.0    0.0    0.0    0.0    0.0    #1 Chop Suey      $  \n",
       "1    0.0    0.0    0.0    0.0    0.0    0.0        'Inoteca     $$  \n",
       "2    0.0    0.0    0.0    0.0    0.0    0.0            'ino     $$  \n",
       "3    0.0    0.0    0.0    0.0    0.0    0.0          'sNice      $  \n",
       "4    0.0    0.0    0.0    0.0    0.0    0.0  1 Fish, 2 Fish      $  \n",
       "\n",
       "[5 rows x 47645 columns]"
      ]
     },
     "execution_count": 14,
     "metadata": {},
     "output_type": "execute_result"
    }
   ],
   "source": [
    "#concat full TF-IDF df with pricing, create %10 CV\n",
    "\n",
    "\n",
    "from sklearn import cross_validation\n",
    "kmeans_df = pd.concat([dense_df1, data3], axis=1)\n",
    "# kmeans_cvdf = cross_validation.StratifiedKFold(kmeans_df, 10, shuffle=True)\n",
    "# kmeans_cvdf.head()\n",
    "# list(kmeans_cvdf)[0]\n",
    "kmeans_df.head()"
   ]
  },
  {
   "cell_type": "code",
   "execution_count": 15,
   "metadata": {
    "collapsed": false
   },
   "outputs": [
    {
     "name": "stderr",
     "output_type": "stream",
     "text": [
      "/home/fcheung/anaconda2/lib/python2.7/site-packages/pandas/core/indexing.py:465: SettingWithCopyWarning: \n",
      "A value is trying to be set on a copy of a slice from a DataFrame.\n",
      "Try using .loc[row_indexer,col_indexer] = value instead\n",
      "\n",
      "See the caveats in the documentation: http://pandas.pydata.org/pandas-docs/stable/indexing.html#indexing-view-versus-copy\n",
      "  self.obj[item] = s\n"
     ]
    }
   ],
   "source": [
    "kmeans_df2 = kmeans_df.dropna()\n",
    "kmeans_df2.loc[kmeans_df2.iloc[:,-1] == '$','price'] = 1\n",
    "kmeans_df2.loc[kmeans_df2.iloc[:,-1] == '$$','price'] = 2\n",
    "kmeans_df2.loc[kmeans_df2.iloc[:,-1] == '$$$','price'] = 3\n",
    "kmeans_df2.loc[kmeans_df2.iloc[:,-1] == '$$$$','price'] = 4\n",
    "# kmeans_df2.tail()\n"
   ]
  },
  {
   "cell_type": "code",
   "execution_count": 16,
   "metadata": {
    "collapsed": false
   },
   "outputs": [
    {
     "data": {
      "text/plain": [
       "array([[ 0.,  0.,  0., ...,  0.,  0.,  0.],\n",
       "       [ 0.,  0.,  0., ...,  0.,  0.,  0.],\n",
       "       [ 0.,  0.,  0., ...,  0.,  0.,  0.],\n",
       "       ..., \n",
       "       [ 0.,  0.,  0., ...,  0.,  0.,  0.],\n",
       "       [ 0.,  0.,  0., ...,  0.,  0.,  0.],\n",
       "       [ 0.,  0.,  0., ...,  0.,  0.,  0.]])"
      ]
     },
     "execution_count": 16,
     "metadata": {},
     "output_type": "execute_result"
    }
   ],
   "source": [
    "#might be faster to filter and just take 10%\n",
    "#take 10% sample of each sub sample and concatenate\n",
    "sample_price1 = kmeans_df2.query(\"price == 1\").sample(frac=.1)\n",
    "sample_price2 = kmeans_df2.query(\"price == 2\").sample(frac=.1)\n",
    "sample_price3 = kmeans_df2.query(\"price == 3\").sample(frac=.1)\n",
    "sample_price4 = kmeans_df2.query(\"price == 4\").sample(frac=.1)\n",
    "\n",
    "frames = [sample_price1,sample_price2,sample_price3,sample_price4]\n",
    "kmeans_sample = pd.concat(frames)\n",
    "kmeans_sample2 = kmeans_sample.drop(['name','price'], axis=1)\n",
    "kmeans_sample2.values\n",
    "\n"
   ]
  },
  {
   "cell_type": "code",
   "execution_count": 17,
   "metadata": {
    "collapsed": true
   },
   "outputs": [],
   "source": [
    "from sklearn.cluster import KMeans\n",
    "def find_kmeans_centroids(num):\n",
    "    kmeans_results = KMeans(n_clusters=num, random_state=0).fit(kmeans_sample2.values)\n",
    "    A = kmeans_results.cluster_centers_\n",
    "    return A"
   ]
  },
  {
   "cell_type": "code",
   "execution_count": 19,
   "metadata": {
    "collapsed": false
   },
   "outputs": [],
   "source": [
    "#vary the number of centroids to ensure I have right number of groups\n",
    "kmeans_results3 = find_kmeans_centroids(3)\n",
    "# kmeans_results4 = find_kmeans_centroids(4)\n",
    "# kmeans_results5 = find_kmeans_centroids(5)\n",
    "# kmeans_results6 = find_kmeans_centroids(6)"
   ]
  },
  {
   "cell_type": "code",
   "execution_count": 20,
   "metadata": {
    "collapsed": false
   },
   "outputs": [
    {
     "data": {
      "text/plain": [
       "array([[ -3.38813179e-20,   0.00000000e+00,   0.00000000e+00, ...,\n",
       "          0.00000000e+00,   0.00000000e+00,   0.00000000e+00],\n",
       "       [ -5.42101086e-20,   0.00000000e+00,   0.00000000e+00, ...,\n",
       "          0.00000000e+00,   0.00000000e+00,   0.00000000e+00],\n",
       "       [  6.70085892e-05,   0.00000000e+00,   0.00000000e+00, ...,\n",
       "          0.00000000e+00,   0.00000000e+00,   0.00000000e+00]])"
      ]
     },
     "execution_count": 20,
     "metadata": {},
     "output_type": "execute_result"
    }
   ],
   "source": [
    "kmeans_results3"
   ]
  },
  {
   "cell_type": "code",
   "execution_count": 37,
   "metadata": {
    "collapsed": false
   },
   "outputs": [],
   "source": [
    "from sklearn.decomposition import PCA\n",
    "\n",
    "A = kmeans_results6\n",
    "PCA_object = PCA(n_components=3)\n",
    "PCA_object2 = pd.DataFrame(PCA_object.fit(A).transform(A), columns = ['x', 'y', 'z'])"
   ]
  },
  {
   "cell_type": "code",
   "execution_count": 39,
   "metadata": {
    "collapsed": true
   },
   "outputs": [],
   "source": [
    "PCA_object2.plot?"
   ]
  },
  {
   "cell_type": "code",
   "execution_count": 51,
   "metadata": {
    "collapsed": false
   },
   "outputs": [
    {
     "data": {
      "text/plain": [
       "<matplotlib.axes._subplots.AxesSubplot at 0x7fbe8748f690>"
      ]
     },
     "execution_count": 51,
     "metadata": {},
     "output_type": "execute_result"
    },
    {
     "data": {
      "image/png": "[encoded data removed]",
      "text/plain": [
       "<matplotlib.figure.Figure at 0x7fbe879ef750>"
      ]
     },
     "metadata": {},
     "output_type": "display_data"
    }
   ],
   "source": [
    "fig,ax = plt.subplots(2,2)\n",
    "PCA_object2.plot('x', 'y', kind='scatter', ylim=(-.35,.4), ax=ax[0,0])\n",
    "PCA_object2.plot('x', 'z', kind='scatter', ylim=(-.35,.4), ax=ax[0,1])\n",
    "PCA_object2.plot('y', 'z', kind='scatter', ylim=(-.35,.4), ax=ax[1,0])"
   ]
  },
  {
   "cell_type": "code",
   "execution_count": 29,
   "metadata": {
    "collapsed": true
   },
   "outputs": [],
   "source": [
    "def euclid_dist(num):\n",
    "    var1 = find_kmeans_centroids(num)\n",
    "    var2 = []\n",
    "    for i in range(num):\n",
    "        for j in range (i+1, num):\n",
    "            var2.append((i,j, np.sqrt(np.sum(var1[i,:]-var1[j,:])**2)))\n",
    "    return var2"
   ]
  },
  {
   "cell_type": "code",
   "execution_count": 35,
   "metadata": {
    "collapsed": false
   },
   "outputs": [],
   "source": [
    "ans3 = euclid_dist(3)\n",
    "ans4 = euclid_dist(4)\n",
    "ans5 = euclid_dist(5)"
   ]
  },
  {
   "cell_type": "code",
   "execution_count": 38,
   "metadata": {
    "collapsed": true
   },
   "outputs": [],
   "source": [
    "ans6 = euclid_dist(6)"
   ]
  },
  {
   "cell_type": "code",
   "execution_count": 41,
   "metadata": {
    "collapsed": false
   },
   "outputs": [
    {
     "data": {
      "text/plain": [
       "[<matplotlib.lines.Line2D at 0x7f09f8841810>]"
      ]
     },
     "execution_count": 41,
     "metadata": {},
     "output_type": "execute_result"
    },
    {
     "data": {
      "image/png": "[encoded data removed]",
      "text/plain": [
       "<matplotlib.figure.Figure at 0x7f09fd2235d0>"
      ]
     },
     "metadata": {},
     "output_type": "display_data"
    }
   ],
   "source": [
    "plt.plot(map(lambda x:x[2],ans4))"
   ]
  },
  {
   "cell_type": "code",
   "execution_count": null,
   "metadata": {
    "collapsed": true
   },
   "outputs": [],
   "source": []
  }
 ],
 "metadata": {
  "kernelspec": {
   "display_name": "Python [Root]",
   "language": "python",
   "name": "Python [Root]"
  },
  "language_info": {
   "codemirror_mode": {
    "name": "ipython",
    "version": 2
   },
   "file_extension": ".py",
   "mimetype": "text/x-python",
   "name": "python",
   "nbconvert_exporter": "python",
   "pygments_lexer": "ipython2",
   "version": "2.7.12"
  }
 },
 "nbformat": 4,
 "nbformat_minor": 0
}
